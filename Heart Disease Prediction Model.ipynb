{
 "cells": [
  {
   "cell_type": "markdown",
   "id": "b1f32ec3",
   "metadata": {},
   "source": [
    "# Heart Disease Prediction with Logistic Regression for Binary Classification"
   ]
  },
  {
   "cell_type": "markdown",
   "id": "f4575554",
   "metadata": {},
   "source": [
    "## 1. Goals:\n",
    "- Create and train a Machine Learning model that uses binary classification to predict wether a pacient has a heart disease or not"
   ]
  },
  {
   "cell_type": "markdown",
   "id": "1f4c87a2",
   "metadata": {},
   "source": [
    "## 2. Workflow:\n",
    "- Collect the heart data (Kaggle Heart Disease UCI)\n",
    "- Pre-process the data\n",
    "- Split the data into train data and test data (Train-Test split)\n",
    "- Train a logistic regression model\n",
    "- Collect new data\n",
    "- Make predictions"
   ]
  },
  {
   "cell_type": "markdown",
   "id": "73eeac9f",
   "metadata": {},
   "source": [
    "## 3. Dataset:\n",
    "- Age\n",
    "- Sex\n",
    "- Chest pain type (4 values)\n",
    "- Resting blood pressure\n",
    "- Serum cholesterol in mg/dl\n",
    "- Fasting blood sugar > 120mg/dl\n",
    "- Resting electrocardiographic results (values 0,1,2)\n",
    "- Maximum heart rate achieved\n",
    "- Exercise induced angina\n",
    "- Old peak = ST depression induced by exercise relative to rest\n",
    "- The slope of the peak exercise ST segment\n",
    "- Number of major vessels (0-3) colored by flourosopy\n",
    "- Thai: 3 = normal, 6 = fixed defect, 7 = reversable defect"
   ]
  },
  {
   "cell_type": "code",
   "execution_count": 521,
   "id": "c413a58e",
   "metadata": {},
   "outputs": [],
   "source": [
    "import pandas as pd\n",
    "import numpy as np\n",
    "import matplotlib.pyplot as plt\n",
    "from sklearn.model_selection import train_test_split\n",
    "import ipywidgets as widgets\n",
    "from IPython.display import display\n",
    "import copy"
   ]
  },
  {
   "cell_type": "markdown",
   "id": "ae7df6fe",
   "metadata": {},
   "source": [
    "### 2.1 Data collection and Processing"
   ]
  },
  {
   "cell_type": "code",
   "execution_count": 486,
   "id": "09aa0256",
   "metadata": {},
   "outputs": [],
   "source": [
    "# Loading the data into a pandas dataframe\n",
    "path = \"heart_disease_data.csv\"\n",
    "heart_data = pd.read_csv(path)"
   ]
  },
  {
   "cell_type": "code",
   "execution_count": 487,
   "id": "bf5fbbac",
   "metadata": {},
   "outputs": [
    {
     "data": {
      "text/html": [
       "<div>\n",
       "<style scoped>\n",
       "    .dataframe tbody tr th:only-of-type {\n",
       "        vertical-align: middle;\n",
       "    }\n",
       "\n",
       "    .dataframe tbody tr th {\n",
       "        vertical-align: top;\n",
       "    }\n",
       "\n",
       "    .dataframe thead th {\n",
       "        text-align: right;\n",
       "    }\n",
       "</style>\n",
       "<table border=\"1\" class=\"dataframe\">\n",
       "  <thead>\n",
       "    <tr style=\"text-align: right;\">\n",
       "      <th></th>\n",
       "      <th>age</th>\n",
       "      <th>sex</th>\n",
       "      <th>cp</th>\n",
       "      <th>trestbps</th>\n",
       "      <th>chol</th>\n",
       "      <th>fbs</th>\n",
       "      <th>restecg</th>\n",
       "      <th>thalach</th>\n",
       "      <th>exang</th>\n",
       "      <th>oldpeak</th>\n",
       "      <th>slope</th>\n",
       "      <th>ca</th>\n",
       "      <th>thal</th>\n",
       "      <th>target</th>\n",
       "    </tr>\n",
       "  </thead>\n",
       "  <tbody>\n",
       "    <tr>\n",
       "      <th>0</th>\n",
       "      <td>63</td>\n",
       "      <td>1</td>\n",
       "      <td>3</td>\n",
       "      <td>145</td>\n",
       "      <td>233</td>\n",
       "      <td>1</td>\n",
       "      <td>0</td>\n",
       "      <td>150</td>\n",
       "      <td>0</td>\n",
       "      <td>2.3</td>\n",
       "      <td>0</td>\n",
       "      <td>0</td>\n",
       "      <td>1</td>\n",
       "      <td>1</td>\n",
       "    </tr>\n",
       "    <tr>\n",
       "      <th>1</th>\n",
       "      <td>37</td>\n",
       "      <td>1</td>\n",
       "      <td>2</td>\n",
       "      <td>130</td>\n",
       "      <td>250</td>\n",
       "      <td>0</td>\n",
       "      <td>1</td>\n",
       "      <td>187</td>\n",
       "      <td>0</td>\n",
       "      <td>3.5</td>\n",
       "      <td>0</td>\n",
       "      <td>0</td>\n",
       "      <td>2</td>\n",
       "      <td>1</td>\n",
       "    </tr>\n",
       "    <tr>\n",
       "      <th>2</th>\n",
       "      <td>41</td>\n",
       "      <td>0</td>\n",
       "      <td>1</td>\n",
       "      <td>130</td>\n",
       "      <td>204</td>\n",
       "      <td>0</td>\n",
       "      <td>0</td>\n",
       "      <td>172</td>\n",
       "      <td>0</td>\n",
       "      <td>1.4</td>\n",
       "      <td>2</td>\n",
       "      <td>0</td>\n",
       "      <td>2</td>\n",
       "      <td>1</td>\n",
       "    </tr>\n",
       "    <tr>\n",
       "      <th>3</th>\n",
       "      <td>56</td>\n",
       "      <td>1</td>\n",
       "      <td>1</td>\n",
       "      <td>120</td>\n",
       "      <td>236</td>\n",
       "      <td>0</td>\n",
       "      <td>1</td>\n",
       "      <td>178</td>\n",
       "      <td>0</td>\n",
       "      <td>0.8</td>\n",
       "      <td>2</td>\n",
       "      <td>0</td>\n",
       "      <td>2</td>\n",
       "      <td>1</td>\n",
       "    </tr>\n",
       "    <tr>\n",
       "      <th>4</th>\n",
       "      <td>57</td>\n",
       "      <td>0</td>\n",
       "      <td>0</td>\n",
       "      <td>120</td>\n",
       "      <td>354</td>\n",
       "      <td>0</td>\n",
       "      <td>1</td>\n",
       "      <td>163</td>\n",
       "      <td>1</td>\n",
       "      <td>0.6</td>\n",
       "      <td>2</td>\n",
       "      <td>0</td>\n",
       "      <td>2</td>\n",
       "      <td>1</td>\n",
       "    </tr>\n",
       "  </tbody>\n",
       "</table>\n",
       "</div>"
      ],
      "text/plain": [
       "   age  sex  cp  trestbps  chol  fbs  restecg  thalach  exang  oldpeak  slope  \\\n",
       "0   63    1   3       145   233    1        0      150      0      2.3      0   \n",
       "1   37    1   2       130   250    0        1      187      0      3.5      0   \n",
       "2   41    0   1       130   204    0        0      172      0      1.4      2   \n",
       "3   56    1   1       120   236    0        1      178      0      0.8      2   \n",
       "4   57    0   0       120   354    0        1      163      1      0.6      2   \n",
       "\n",
       "   ca  thal  target  \n",
       "0   0     1       1  \n",
       "1   0     2       1  \n",
       "2   0     2       1  \n",
       "3   0     2       1  \n",
       "4   0     2       1  "
      ]
     },
     "execution_count": 487,
     "metadata": {},
     "output_type": "execute_result"
    }
   ],
   "source": [
    "heart_data.head()"
   ]
  },
  {
   "cell_type": "code",
   "execution_count": 488,
   "id": "540867e9",
   "metadata": {},
   "outputs": [
    {
     "data": {
      "text/html": [
       "<div>\n",
       "<style scoped>\n",
       "    .dataframe tbody tr th:only-of-type {\n",
       "        vertical-align: middle;\n",
       "    }\n",
       "\n",
       "    .dataframe tbody tr th {\n",
       "        vertical-align: top;\n",
       "    }\n",
       "\n",
       "    .dataframe thead th {\n",
       "        text-align: right;\n",
       "    }\n",
       "</style>\n",
       "<table border=\"1\" class=\"dataframe\">\n",
       "  <thead>\n",
       "    <tr style=\"text-align: right;\">\n",
       "      <th></th>\n",
       "      <th>age</th>\n",
       "      <th>sex</th>\n",
       "      <th>cp</th>\n",
       "      <th>trestbps</th>\n",
       "      <th>chol</th>\n",
       "      <th>fbs</th>\n",
       "      <th>restecg</th>\n",
       "      <th>thalach</th>\n",
       "      <th>exang</th>\n",
       "      <th>oldpeak</th>\n",
       "      <th>slope</th>\n",
       "      <th>ca</th>\n",
       "      <th>thal</th>\n",
       "      <th>target</th>\n",
       "    </tr>\n",
       "  </thead>\n",
       "  <tbody>\n",
       "    <tr>\n",
       "      <th>298</th>\n",
       "      <td>57</td>\n",
       "      <td>0</td>\n",
       "      <td>0</td>\n",
       "      <td>140</td>\n",
       "      <td>241</td>\n",
       "      <td>0</td>\n",
       "      <td>1</td>\n",
       "      <td>123</td>\n",
       "      <td>1</td>\n",
       "      <td>0.2</td>\n",
       "      <td>1</td>\n",
       "      <td>0</td>\n",
       "      <td>3</td>\n",
       "      <td>0</td>\n",
       "    </tr>\n",
       "    <tr>\n",
       "      <th>299</th>\n",
       "      <td>45</td>\n",
       "      <td>1</td>\n",
       "      <td>3</td>\n",
       "      <td>110</td>\n",
       "      <td>264</td>\n",
       "      <td>0</td>\n",
       "      <td>1</td>\n",
       "      <td>132</td>\n",
       "      <td>0</td>\n",
       "      <td>1.2</td>\n",
       "      <td>1</td>\n",
       "      <td>0</td>\n",
       "      <td>3</td>\n",
       "      <td>0</td>\n",
       "    </tr>\n",
       "    <tr>\n",
       "      <th>300</th>\n",
       "      <td>68</td>\n",
       "      <td>1</td>\n",
       "      <td>0</td>\n",
       "      <td>144</td>\n",
       "      <td>193</td>\n",
       "      <td>1</td>\n",
       "      <td>1</td>\n",
       "      <td>141</td>\n",
       "      <td>0</td>\n",
       "      <td>3.4</td>\n",
       "      <td>1</td>\n",
       "      <td>2</td>\n",
       "      <td>3</td>\n",
       "      <td>0</td>\n",
       "    </tr>\n",
       "    <tr>\n",
       "      <th>301</th>\n",
       "      <td>57</td>\n",
       "      <td>1</td>\n",
       "      <td>0</td>\n",
       "      <td>130</td>\n",
       "      <td>131</td>\n",
       "      <td>0</td>\n",
       "      <td>1</td>\n",
       "      <td>115</td>\n",
       "      <td>1</td>\n",
       "      <td>1.2</td>\n",
       "      <td>1</td>\n",
       "      <td>1</td>\n",
       "      <td>3</td>\n",
       "      <td>0</td>\n",
       "    </tr>\n",
       "    <tr>\n",
       "      <th>302</th>\n",
       "      <td>57</td>\n",
       "      <td>0</td>\n",
       "      <td>1</td>\n",
       "      <td>130</td>\n",
       "      <td>236</td>\n",
       "      <td>0</td>\n",
       "      <td>0</td>\n",
       "      <td>174</td>\n",
       "      <td>0</td>\n",
       "      <td>0.0</td>\n",
       "      <td>1</td>\n",
       "      <td>1</td>\n",
       "      <td>2</td>\n",
       "      <td>0</td>\n",
       "    </tr>\n",
       "  </tbody>\n",
       "</table>\n",
       "</div>"
      ],
      "text/plain": [
       "     age  sex  cp  trestbps  chol  fbs  restecg  thalach  exang  oldpeak  \\\n",
       "298   57    0   0       140   241    0        1      123      1      0.2   \n",
       "299   45    1   3       110   264    0        1      132      0      1.2   \n",
       "300   68    1   0       144   193    1        1      141      0      3.4   \n",
       "301   57    1   0       130   131    0        1      115      1      1.2   \n",
       "302   57    0   1       130   236    0        0      174      0      0.0   \n",
       "\n",
       "     slope  ca  thal  target  \n",
       "298      1   0     3       0  \n",
       "299      1   0     3       0  \n",
       "300      1   2     3       0  \n",
       "301      1   1     3       0  \n",
       "302      1   1     2       0  "
      ]
     },
     "execution_count": 488,
     "metadata": {},
     "output_type": "execute_result"
    }
   ],
   "source": [
    "heart_data.tail()"
   ]
  },
  {
   "cell_type": "code",
   "execution_count": 489,
   "id": "4aaacc34",
   "metadata": {},
   "outputs": [
    {
     "data": {
      "text/plain": [
       "(303, 14)"
      ]
     },
     "execution_count": 489,
     "metadata": {},
     "output_type": "execute_result"
    }
   ],
   "source": [
    "# Number of rows and columns in the dataset\n",
    "heart_data.shape"
   ]
  },
  {
   "cell_type": "code",
   "execution_count": 490,
   "id": "9acf1bce",
   "metadata": {},
   "outputs": [
    {
     "name": "stdout",
     "output_type": "stream",
     "text": [
      "<class 'pandas.core.frame.DataFrame'>\n",
      "RangeIndex: 303 entries, 0 to 302\n",
      "Data columns (total 14 columns):\n",
      " #   Column    Non-Null Count  Dtype  \n",
      "---  ------    --------------  -----  \n",
      " 0   age       303 non-null    int64  \n",
      " 1   sex       303 non-null    int64  \n",
      " 2   cp        303 non-null    int64  \n",
      " 3   trestbps  303 non-null    int64  \n",
      " 4   chol      303 non-null    int64  \n",
      " 5   fbs       303 non-null    int64  \n",
      " 6   restecg   303 non-null    int64  \n",
      " 7   thalach   303 non-null    int64  \n",
      " 8   exang     303 non-null    int64  \n",
      " 9   oldpeak   303 non-null    float64\n",
      " 10  slope     303 non-null    int64  \n",
      " 11  ca        303 non-null    int64  \n",
      " 12  thal      303 non-null    int64  \n",
      " 13  target    303 non-null    int64  \n",
      "dtypes: float64(1), int64(13)\n",
      "memory usage: 33.3 KB\n"
     ]
    }
   ],
   "source": [
    "# Getting some information about the data\n",
    "heart_data.info()"
   ]
  },
  {
   "cell_type": "code",
   "execution_count": 491,
   "id": "d680759b",
   "metadata": {},
   "outputs": [
    {
     "data": {
      "text/plain": [
       "age         0\n",
       "sex         0\n",
       "cp          0\n",
       "trestbps    0\n",
       "chol        0\n",
       "fbs         0\n",
       "restecg     0\n",
       "thalach     0\n",
       "exang       0\n",
       "oldpeak     0\n",
       "slope       0\n",
       "ca          0\n",
       "thal        0\n",
       "target      0\n",
       "dtype: int64"
      ]
     },
     "execution_count": 491,
     "metadata": {},
     "output_type": "execute_result"
    }
   ],
   "source": [
    "# Checking for missing values\n",
    "heart_data.isnull().sum()"
   ]
  },
  {
   "cell_type": "code",
   "execution_count": 492,
   "id": "990b5fe8",
   "metadata": {},
   "outputs": [
    {
     "data": {
      "text/html": [
       "<div>\n",
       "<style scoped>\n",
       "    .dataframe tbody tr th:only-of-type {\n",
       "        vertical-align: middle;\n",
       "    }\n",
       "\n",
       "    .dataframe tbody tr th {\n",
       "        vertical-align: top;\n",
       "    }\n",
       "\n",
       "    .dataframe thead th {\n",
       "        text-align: right;\n",
       "    }\n",
       "</style>\n",
       "<table border=\"1\" class=\"dataframe\">\n",
       "  <thead>\n",
       "    <tr style=\"text-align: right;\">\n",
       "      <th></th>\n",
       "      <th>age</th>\n",
       "      <th>sex</th>\n",
       "      <th>cp</th>\n",
       "      <th>trestbps</th>\n",
       "      <th>chol</th>\n",
       "      <th>fbs</th>\n",
       "      <th>restecg</th>\n",
       "      <th>thalach</th>\n",
       "      <th>exang</th>\n",
       "      <th>oldpeak</th>\n",
       "      <th>slope</th>\n",
       "      <th>ca</th>\n",
       "      <th>thal</th>\n",
       "      <th>target</th>\n",
       "    </tr>\n",
       "  </thead>\n",
       "  <tbody>\n",
       "    <tr>\n",
       "      <th>count</th>\n",
       "      <td>303.000000</td>\n",
       "      <td>303.000000</td>\n",
       "      <td>303.000000</td>\n",
       "      <td>303.000000</td>\n",
       "      <td>303.000000</td>\n",
       "      <td>303.000000</td>\n",
       "      <td>303.000000</td>\n",
       "      <td>303.000000</td>\n",
       "      <td>303.000000</td>\n",
       "      <td>303.000000</td>\n",
       "      <td>303.000000</td>\n",
       "      <td>303.000000</td>\n",
       "      <td>303.000000</td>\n",
       "      <td>303.000000</td>\n",
       "    </tr>\n",
       "    <tr>\n",
       "      <th>mean</th>\n",
       "      <td>54.366337</td>\n",
       "      <td>0.683168</td>\n",
       "      <td>0.966997</td>\n",
       "      <td>131.623762</td>\n",
       "      <td>246.264026</td>\n",
       "      <td>0.148515</td>\n",
       "      <td>0.528053</td>\n",
       "      <td>149.646865</td>\n",
       "      <td>0.326733</td>\n",
       "      <td>1.039604</td>\n",
       "      <td>1.399340</td>\n",
       "      <td>0.729373</td>\n",
       "      <td>2.313531</td>\n",
       "      <td>0.544554</td>\n",
       "    </tr>\n",
       "    <tr>\n",
       "      <th>std</th>\n",
       "      <td>9.082101</td>\n",
       "      <td>0.466011</td>\n",
       "      <td>1.032052</td>\n",
       "      <td>17.538143</td>\n",
       "      <td>51.830751</td>\n",
       "      <td>0.356198</td>\n",
       "      <td>0.525860</td>\n",
       "      <td>22.905161</td>\n",
       "      <td>0.469794</td>\n",
       "      <td>1.161075</td>\n",
       "      <td>0.616226</td>\n",
       "      <td>1.022606</td>\n",
       "      <td>0.612277</td>\n",
       "      <td>0.498835</td>\n",
       "    </tr>\n",
       "    <tr>\n",
       "      <th>min</th>\n",
       "      <td>29.000000</td>\n",
       "      <td>0.000000</td>\n",
       "      <td>0.000000</td>\n",
       "      <td>94.000000</td>\n",
       "      <td>126.000000</td>\n",
       "      <td>0.000000</td>\n",
       "      <td>0.000000</td>\n",
       "      <td>71.000000</td>\n",
       "      <td>0.000000</td>\n",
       "      <td>0.000000</td>\n",
       "      <td>0.000000</td>\n",
       "      <td>0.000000</td>\n",
       "      <td>0.000000</td>\n",
       "      <td>0.000000</td>\n",
       "    </tr>\n",
       "    <tr>\n",
       "      <th>25%</th>\n",
       "      <td>47.500000</td>\n",
       "      <td>0.000000</td>\n",
       "      <td>0.000000</td>\n",
       "      <td>120.000000</td>\n",
       "      <td>211.000000</td>\n",
       "      <td>0.000000</td>\n",
       "      <td>0.000000</td>\n",
       "      <td>133.500000</td>\n",
       "      <td>0.000000</td>\n",
       "      <td>0.000000</td>\n",
       "      <td>1.000000</td>\n",
       "      <td>0.000000</td>\n",
       "      <td>2.000000</td>\n",
       "      <td>0.000000</td>\n",
       "    </tr>\n",
       "    <tr>\n",
       "      <th>50%</th>\n",
       "      <td>55.000000</td>\n",
       "      <td>1.000000</td>\n",
       "      <td>1.000000</td>\n",
       "      <td>130.000000</td>\n",
       "      <td>240.000000</td>\n",
       "      <td>0.000000</td>\n",
       "      <td>1.000000</td>\n",
       "      <td>153.000000</td>\n",
       "      <td>0.000000</td>\n",
       "      <td>0.800000</td>\n",
       "      <td>1.000000</td>\n",
       "      <td>0.000000</td>\n",
       "      <td>2.000000</td>\n",
       "      <td>1.000000</td>\n",
       "    </tr>\n",
       "    <tr>\n",
       "      <th>75%</th>\n",
       "      <td>61.000000</td>\n",
       "      <td>1.000000</td>\n",
       "      <td>2.000000</td>\n",
       "      <td>140.000000</td>\n",
       "      <td>274.500000</td>\n",
       "      <td>0.000000</td>\n",
       "      <td>1.000000</td>\n",
       "      <td>166.000000</td>\n",
       "      <td>1.000000</td>\n",
       "      <td>1.600000</td>\n",
       "      <td>2.000000</td>\n",
       "      <td>1.000000</td>\n",
       "      <td>3.000000</td>\n",
       "      <td>1.000000</td>\n",
       "    </tr>\n",
       "    <tr>\n",
       "      <th>max</th>\n",
       "      <td>77.000000</td>\n",
       "      <td>1.000000</td>\n",
       "      <td>3.000000</td>\n",
       "      <td>200.000000</td>\n",
       "      <td>564.000000</td>\n",
       "      <td>1.000000</td>\n",
       "      <td>2.000000</td>\n",
       "      <td>202.000000</td>\n",
       "      <td>1.000000</td>\n",
       "      <td>6.200000</td>\n",
       "      <td>2.000000</td>\n",
       "      <td>4.000000</td>\n",
       "      <td>3.000000</td>\n",
       "      <td>1.000000</td>\n",
       "    </tr>\n",
       "  </tbody>\n",
       "</table>\n",
       "</div>"
      ],
      "text/plain": [
       "              age         sex          cp    trestbps        chol         fbs  \\\n",
       "count  303.000000  303.000000  303.000000  303.000000  303.000000  303.000000   \n",
       "mean    54.366337    0.683168    0.966997  131.623762  246.264026    0.148515   \n",
       "std      9.082101    0.466011    1.032052   17.538143   51.830751    0.356198   \n",
       "min     29.000000    0.000000    0.000000   94.000000  126.000000    0.000000   \n",
       "25%     47.500000    0.000000    0.000000  120.000000  211.000000    0.000000   \n",
       "50%     55.000000    1.000000    1.000000  130.000000  240.000000    0.000000   \n",
       "75%     61.000000    1.000000    2.000000  140.000000  274.500000    0.000000   \n",
       "max     77.000000    1.000000    3.000000  200.000000  564.000000    1.000000   \n",
       "\n",
       "          restecg     thalach       exang     oldpeak       slope          ca  \\\n",
       "count  303.000000  303.000000  303.000000  303.000000  303.000000  303.000000   \n",
       "mean     0.528053  149.646865    0.326733    1.039604    1.399340    0.729373   \n",
       "std      0.525860   22.905161    0.469794    1.161075    0.616226    1.022606   \n",
       "min      0.000000   71.000000    0.000000    0.000000    0.000000    0.000000   \n",
       "25%      0.000000  133.500000    0.000000    0.000000    1.000000    0.000000   \n",
       "50%      1.000000  153.000000    0.000000    0.800000    1.000000    0.000000   \n",
       "75%      1.000000  166.000000    1.000000    1.600000    2.000000    1.000000   \n",
       "max      2.000000  202.000000    1.000000    6.200000    2.000000    4.000000   \n",
       "\n",
       "             thal      target  \n",
       "count  303.000000  303.000000  \n",
       "mean     2.313531    0.544554  \n",
       "std      0.612277    0.498835  \n",
       "min      0.000000    0.000000  \n",
       "25%      2.000000    0.000000  \n",
       "50%      2.000000    1.000000  \n",
       "75%      3.000000    1.000000  \n",
       "max      3.000000    1.000000  "
      ]
     },
     "execution_count": 492,
     "metadata": {},
     "output_type": "execute_result"
    }
   ],
   "source": [
    "# Statistical measures about the data\n",
    "heart_data.describe()"
   ]
  },
  {
   "cell_type": "code",
   "execution_count": 493,
   "id": "2e9d6bbc",
   "metadata": {},
   "outputs": [
    {
     "data": {
      "text/plain": [
       "1    165\n",
       "0    138\n",
       "Name: target, dtype: int64"
      ]
     },
     "execution_count": 493,
     "metadata": {},
     "output_type": "execute_result"
    }
   ],
   "source": [
    "# Checking the distribution of target variable\n",
    "heart_data['target'].value_counts()"
   ]
  },
  {
   "cell_type": "markdown",
   "id": "33f9562a",
   "metadata": {},
   "source": [
    "The distribution is approximately even, since the number of True values are close to the number of False values, i.e. the distribution is even:\n",
    "\n",
    "- 1 reppresents a Defective Heart\n",
    "- 0 reppresents a Healthy Heart"
   ]
  },
  {
   "cell_type": "markdown",
   "id": "101743a1",
   "metadata": {},
   "source": [
    "### 2.2 Splitting the features and the target values"
   ]
  },
  {
   "cell_type": "code",
   "execution_count": 494,
   "id": "fd66cc03",
   "metadata": {},
   "outputs": [],
   "source": [
    "X = heart_data.drop(columns = \"target\", axis = 1)\n",
    "y = heart_data[\"target\"]"
   ]
  },
  {
   "cell_type": "code",
   "execution_count": 495,
   "id": "6ecc28c7",
   "metadata": {},
   "outputs": [
    {
     "data": {
      "text/html": [
       "<div>\n",
       "<style scoped>\n",
       "    .dataframe tbody tr th:only-of-type {\n",
       "        vertical-align: middle;\n",
       "    }\n",
       "\n",
       "    .dataframe tbody tr th {\n",
       "        vertical-align: top;\n",
       "    }\n",
       "\n",
       "    .dataframe thead th {\n",
       "        text-align: right;\n",
       "    }\n",
       "</style>\n",
       "<table border=\"1\" class=\"dataframe\">\n",
       "  <thead>\n",
       "    <tr style=\"text-align: right;\">\n",
       "      <th></th>\n",
       "      <th>age</th>\n",
       "      <th>sex</th>\n",
       "      <th>cp</th>\n",
       "      <th>trestbps</th>\n",
       "      <th>chol</th>\n",
       "      <th>fbs</th>\n",
       "      <th>restecg</th>\n",
       "      <th>thalach</th>\n",
       "      <th>exang</th>\n",
       "      <th>oldpeak</th>\n",
       "      <th>slope</th>\n",
       "      <th>ca</th>\n",
       "      <th>thal</th>\n",
       "    </tr>\n",
       "  </thead>\n",
       "  <tbody>\n",
       "    <tr>\n",
       "      <th>0</th>\n",
       "      <td>63</td>\n",
       "      <td>1</td>\n",
       "      <td>3</td>\n",
       "      <td>145</td>\n",
       "      <td>233</td>\n",
       "      <td>1</td>\n",
       "      <td>0</td>\n",
       "      <td>150</td>\n",
       "      <td>0</td>\n",
       "      <td>2.3</td>\n",
       "      <td>0</td>\n",
       "      <td>0</td>\n",
       "      <td>1</td>\n",
       "    </tr>\n",
       "    <tr>\n",
       "      <th>1</th>\n",
       "      <td>37</td>\n",
       "      <td>1</td>\n",
       "      <td>2</td>\n",
       "      <td>130</td>\n",
       "      <td>250</td>\n",
       "      <td>0</td>\n",
       "      <td>1</td>\n",
       "      <td>187</td>\n",
       "      <td>0</td>\n",
       "      <td>3.5</td>\n",
       "      <td>0</td>\n",
       "      <td>0</td>\n",
       "      <td>2</td>\n",
       "    </tr>\n",
       "    <tr>\n",
       "      <th>2</th>\n",
       "      <td>41</td>\n",
       "      <td>0</td>\n",
       "      <td>1</td>\n",
       "      <td>130</td>\n",
       "      <td>204</td>\n",
       "      <td>0</td>\n",
       "      <td>0</td>\n",
       "      <td>172</td>\n",
       "      <td>0</td>\n",
       "      <td>1.4</td>\n",
       "      <td>2</td>\n",
       "      <td>0</td>\n",
       "      <td>2</td>\n",
       "    </tr>\n",
       "    <tr>\n",
       "      <th>3</th>\n",
       "      <td>56</td>\n",
       "      <td>1</td>\n",
       "      <td>1</td>\n",
       "      <td>120</td>\n",
       "      <td>236</td>\n",
       "      <td>0</td>\n",
       "      <td>1</td>\n",
       "      <td>178</td>\n",
       "      <td>0</td>\n",
       "      <td>0.8</td>\n",
       "      <td>2</td>\n",
       "      <td>0</td>\n",
       "      <td>2</td>\n",
       "    </tr>\n",
       "    <tr>\n",
       "      <th>4</th>\n",
       "      <td>57</td>\n",
       "      <td>0</td>\n",
       "      <td>0</td>\n",
       "      <td>120</td>\n",
       "      <td>354</td>\n",
       "      <td>0</td>\n",
       "      <td>1</td>\n",
       "      <td>163</td>\n",
       "      <td>1</td>\n",
       "      <td>0.6</td>\n",
       "      <td>2</td>\n",
       "      <td>0</td>\n",
       "      <td>2</td>\n",
       "    </tr>\n",
       "  </tbody>\n",
       "</table>\n",
       "</div>"
      ],
      "text/plain": [
       "   age  sex  cp  trestbps  chol  fbs  restecg  thalach  exang  oldpeak  slope  \\\n",
       "0   63    1   3       145   233    1        0      150      0      2.3      0   \n",
       "1   37    1   2       130   250    0        1      187      0      3.5      0   \n",
       "2   41    0   1       130   204    0        0      172      0      1.4      2   \n",
       "3   56    1   1       120   236    0        1      178      0      0.8      2   \n",
       "4   57    0   0       120   354    0        1      163      1      0.6      2   \n",
       "\n",
       "   ca  thal  \n",
       "0   0     1  \n",
       "1   0     2  \n",
       "2   0     2  \n",
       "3   0     2  \n",
       "4   0     2  "
      ]
     },
     "execution_count": 495,
     "metadata": {},
     "output_type": "execute_result"
    }
   ],
   "source": [
    "X.head()"
   ]
  },
  {
   "cell_type": "code",
   "execution_count": 496,
   "id": "93d536f9",
   "metadata": {},
   "outputs": [
    {
     "data": {
      "text/plain": [
       "0    1\n",
       "1    1\n",
       "2    1\n",
       "3    1\n",
       "4    1\n",
       "Name: target, dtype: int64"
      ]
     },
     "execution_count": 496,
     "metadata": {},
     "output_type": "execute_result"
    }
   ],
   "source": [
    "y.head()"
   ]
  },
  {
   "cell_type": "markdown",
   "id": "b9ddcfc6",
   "metadata": {},
   "source": [
    "### 2.3 Splitting the data into Training Data and Testing Data"
   ]
  },
  {
   "cell_type": "code",
   "execution_count": 497,
   "id": "44b4698b",
   "metadata": {},
   "outputs": [],
   "source": [
    "X_train, X_test, y_train, y_test = train_test_split(X, y, test_size = 0.2, stratify = y, random_state = 2)\n",
    "# stratify distributes the test and train data evenly with true and false data"
   ]
  },
  {
   "cell_type": "code",
   "execution_count": 498,
   "id": "58771a25",
   "metadata": {},
   "outputs": [
    {
     "name": "stdout",
     "output_type": "stream",
     "text": [
      "(303, 13) (242, 13) (61, 13)\n"
     ]
    }
   ],
   "source": [
    "print(X.shape, X_train.shape, X_test.shape)"
   ]
  },
  {
   "cell_type": "markdown",
   "id": "a5b80a67",
   "metadata": {},
   "source": [
    "### 2.4 Model training with Logistic Regression"
   ]
  },
  {
   "cell_type": "code",
   "execution_count": 499,
   "id": "74ab1417",
   "metadata": {},
   "outputs": [
    {
     "data": {
      "application/vnd.jupyter.widget-view+json": {
       "model_id": "c9dab64efa8f4b50aa7ed6fd7f23ff85",
       "version_major": 2,
       "version_minor": 0
      },
      "text/plain": [
       "interactive(children=(Dropdown(description='Feature 1:', options=(0, 1, 2, 3, 4, 5, 6, 7, 8, 9, 10, 11, 12), v…"
      ]
     },
     "metadata": {},
     "output_type": "display_data"
    }
   ],
   "source": [
    "X_train_np = np.array(X_train)\n",
    "y_train_np = np.array(y_train)\n",
    "\n",
    "# Create interactive dropdown widgets for feature selection\n",
    "feature_1_dropdown = widgets.Dropdown(\n",
    "    options=list(range(X_train_np.shape[1])),\n",
    "    description='Feature 1:'\n",
    ")\n",
    "feature_2_dropdown = widgets.Dropdown(\n",
    "    options=list(range(X_train_np.shape[1])),\n",
    "    description='Feature 2:'\n",
    ")\n",
    "\n",
    "# Create a function to update the plot\n",
    "def update_plot(feature_1, feature_2):\n",
    "    # Extract the selected columns from X_train_np\n",
    "    x_label = X_train_np[:, feature_1]\n",
    "    y_label = X_train_np[:, feature_2]\n",
    "\n",
    "    # Create a mask for coloring the points\n",
    "    colors = np.where(y_train_np == 1, 'red', 'green')\n",
    "\n",
    "    # Clear previous plot\n",
    "    plt.clf()\n",
    "\n",
    "    # Plot the scatter plot\n",
    "    plt.scatter(x_label, y_label, c=colors)\n",
    "\n",
    "    # Add labels and title\n",
    "    plt.xlabel('Feature {}'.format(feature_1))\n",
    "    plt.ylabel('Feature {}'.format(feature_2))\n",
    "    plt.title('Scatter Plot of Features {} and {}'.format(feature_1, feature_2))\n",
    "\n",
    "    # Show the updated plot\n",
    "    plt.show()\n",
    "\n",
    "\n",
    "# Set up the interaction between the dropdowns and the plot update function\n",
    "widgets.interactive(update_plot, feature_1=feature_1_dropdown, feature_2=feature_2_dropdown)"
   ]
  },
  {
   "cell_type": "markdown",
   "id": "3a163ce9",
   "metadata": {},
   "source": [
    "To create a model we need to implement the sigmoid function, the cost function and the gradient descent algorithm function used in logistic regression"
   ]
  },
  {
   "cell_type": "code",
   "execution_count": 500,
   "id": "bc32b514",
   "metadata": {},
   "outputs": [],
   "source": [
    "# Implement the sigmoid function\n",
    "\n",
    "def sigmoid(z):\n",
    "    return 1 / (1 + np.exp(-z))\n"
   ]
  },
  {
   "cell_type": "code",
   "execution_count": 501,
   "id": "09fcdfb7",
   "metadata": {},
   "outputs": [],
   "source": [
    "# Implement the cost function for logistic regression\n",
    "\n",
    "def compute_cost(X, y, w_in, b_in):\n",
    "    m = X.shape[0]\n",
    "    cost = 0.0\n",
    "    \n",
    "    for i in range(m):\n",
    "        z_i = np.dot(X[i], w_in) + b_in\n",
    "        f_wb_i = sigmoid(z_i)\n",
    "        \n",
    "        # Compute the summation element for the current example\n",
    "        summation_element = -y[i] * np.log(f_wb_i) - (1 - y[i]) * np.log(1 - f_wb_i)\n",
    "        \n",
    "        # Add the summation element to the total cost\n",
    "        cost += summation_element\n",
    "    \n",
    "    # Calculate the average cost over all examples\n",
    "    cost = cost / m\n",
    "    \n",
    "    return cost\n"
   ]
  },
  {
   "cell_type": "code",
   "execution_count": 502,
   "id": "4ab02afc",
   "metadata": {},
   "outputs": [],
   "source": [
    "# Implement the gradient function that will be used in the gradient descent algorithm\n",
    "\n",
    "def compute_gradient_logistic(X, y, w_in, b_in):\n",
    "    m, n = X.shape\n",
    "    dj_dw = np.zeros((n,))\n",
    "    dj_db = 0.0\n",
    "    \n",
    "    for i in range(m):\n",
    "        z_i = np.dot(X[i], w_in) + b_in\n",
    "        f_wb_i = sigmoid(z_i)\n",
    "        error = f_wb_i - y[i]\n",
    "        \n",
    "        # Update gradients for each weight\n",
    "        for j in range(n):\n",
    "            dj_dw[j] += error * X[i, j]\n",
    "        \n",
    "        # Update gradient for the bias term\n",
    "        dj_db += error\n",
    "    \n",
    "    # Calculate average gradients over all examples\n",
    "    dj_dw = dj_dw / m\n",
    "    dj_db = dj_db / m\n",
    "    \n",
    "    return dj_dw, dj_db\n"
   ]
  },
  {
   "cell_type": "code",
   "execution_count": 503,
   "id": "2b48e802",
   "metadata": {},
   "outputs": [],
   "source": [
    "# Implement the gradient descent function that will be used to train the model\n",
    "\n",
    "def compute_gradient_descent_logistic(X, y, w_in, b_in, alpha, num_iters, compute_cost, compute_gradient_logistic):\n",
    "    cost_history = []\n",
    "    w = copy.deepcopy(w_in)\n",
    "    b = b_in\n",
    "    \n",
    "    for i in range(num_iters):\n",
    "        dj_dw, dj_db = compute_gradient_logistic(X, y, w, b)\n",
    "        w = w - alpha * dj_dw\n",
    "        b = b - alpha * dj_db\n",
    "        cost_i = compute_cost(X, y, w, b)\n",
    "        cost_history.append(cost_i)\n",
    "        \n",
    "        if i % 1000 == 0:\n",
    "            print(f\"Cost for iteration {i} is {cost_i}\")\n",
    "        \n",
    "    print(f\"Final value of w is {w}.\")\n",
    "    print(f\"Final value of b is {b}.\")\n",
    "    \n",
    "    return w, b, cost_history\n",
    "\n",
    "    "
   ]
  },
  {
   "cell_type": "markdown",
   "id": "86032e66",
   "metadata": {},
   "source": [
    "### Choosing alpha, w_in, b_in and num_iters"
   ]
  },
  {
   "cell_type": "code",
   "execution_count": 507,
   "id": "32fac256",
   "metadata": {},
   "outputs": [],
   "source": [
    "iterations = 100001\n",
    "alpha = 0.000082\n",
    "rows, columns = X_train_np.shape"
   ]
  },
  {
   "cell_type": "code",
   "execution_count": 508,
   "id": "c36d010d",
   "metadata": {},
   "outputs": [
    {
     "data": {
      "text/plain": [
       "(242, 13)"
      ]
     },
     "execution_count": 508,
     "metadata": {},
     "output_type": "execute_result"
    }
   ],
   "source": [
    "rows, columns"
   ]
  },
  {
   "cell_type": "code",
   "execution_count": 509,
   "id": "43b1eca5",
   "metadata": {},
   "outputs": [],
   "source": [
    "w_0 = np.zeros((columns,))\n",
    "b_0 = 0"
   ]
  },
  {
   "cell_type": "code",
   "execution_count": 510,
   "id": "bbef9e9b",
   "metadata": {},
   "outputs": [
    {
     "name": "stdout",
     "output_type": "stream",
     "text": [
      "Cost for iteration 0 is 0.6920597032902921\n",
      "Cost for iteration 1000 is 0.5856220914526847\n",
      "Cost for iteration 2000 is 0.5776988713265857\n",
      "Cost for iteration 3000 is 0.5703593128326749\n",
      "Cost for iteration 4000 is 0.5633572066892156\n",
      "Cost for iteration 5000 is 0.5566585681170492\n",
      "Cost for iteration 6000 is 0.5502476285025631\n",
      "Cost for iteration 7000 is 0.544110618317283\n",
      "Cost for iteration 8000 is 0.5382344124948877\n",
      "Cost for iteration 9000 is 0.532606424745641\n",
      "Cost for iteration 10000 is 0.5272146013079374\n",
      "Cost for iteration 11000 is 0.5220474184082979\n",
      "Cost for iteration 12000 is 0.51709387633052\n",
      "Cost for iteration 13000 is 0.5123434902165811\n",
      "Cost for iteration 14000 is 0.5077862782023519\n",
      "Cost for iteration 15000 is 0.5034127474496208\n",
      "Cost for iteration 16000 is 0.49921387856589977\n",
      "Cost for iteration 17000 is 0.49518110883802524\n",
      "Cost for iteration 18000 is 0.49130631464546975\n",
      "Cost for iteration 19000 is 0.4875817933644181\n",
      "Cost for iteration 20000 is 0.4840002450240426\n",
      "Cost for iteration 21000 is 0.48055475393206076\n",
      "Cost for iteration 22000 is 0.4772387704473831\n",
      "Cost for iteration 23000 is 0.4740460930432979\n",
      "Cost for iteration 24000 is 0.47097085077480105\n",
      "Cost for iteration 25000 is 0.4680074862380377\n",
      "Cost for iteration 26000 is 0.46515073908794785\n",
      "Cost for iteration 27000 is 0.4623956301617562\n",
      "Cost for iteration 28000 is 0.4597374462404563\n",
      "Cost for iteration 29000 is 0.4571717254676213\n",
      "Cost for iteration 30000 is 0.45469424343432363\n",
      "Cost for iteration 31000 is 0.45230099993037953\n",
      "Cost for iteration 32000 is 0.4499882063552849\n",
      "Cost for iteration 33000 is 0.44775227377678256\n",
      "Cost for iteration 34000 is 0.44558980162080564\n",
      "Cost for iteration 35000 is 0.44349756697338355\n",
      "Cost for iteration 36000 is 0.44147251447276853\n",
      "Cost for iteration 37000 is 0.43951174676846777\n",
      "Cost for iteration 38000 is 0.43761251552281366\n",
      "Cost for iteration 39000 is 0.4357722129301951\n",
      "Cost for iteration 40000 is 0.43398836372888017\n",
      "Cost for iteration 41000 is 0.43225861768053775\n",
      "Cost for iteration 42000 is 0.430580742492918\n",
      "Cost for iteration 43000 is 0.42895261716174393\n",
      "Cost for iteration 44000 is 0.42737222570856814\n",
      "Cost for iteration 45000 is 0.4258376512921536\n",
      "Cost for iteration 46000 is 0.4243470706718413\n",
      "Cost for iteration 47000 is 0.422898749002264\n",
      "Cost for iteration 48000 is 0.4214910349397533\n",
      "Cost for iteration 49000 is 0.4201223560417346\n",
      "Cost for iteration 50000 is 0.41879121444136796\n",
      "Cost for iteration 51000 is 0.4174961827806439\n",
      "Cost for iteration 52000 is 0.41623590038606884\n",
      "Cost for iteration 53000 is 0.4150090696719755\n",
      "Cost for iteration 54000 is 0.4138144527573575\n",
      "Cost for iteration 55000 is 0.41265086828296815\n",
      "Cost for iteration 56000 is 0.41151718841621304\n",
      "Cost for iteration 57000 is 0.4104123360321359\n",
      "Cost for iteration 58000 is 0.4093352820595001\n",
      "Cost for iteration 59000 is 0.40828504298168367\n",
      "Cost for iteration 60000 is 0.4072606784827171\n",
      "Cost for iteration 61000 is 0.4062612892294283\n",
      "Cost for iteration 62000 is 0.4052860147812267\n",
      "Cost for iteration 63000 is 0.4043340316195971\n",
      "Cost for iteration 64000 is 0.4034045512898817\n",
      "Cost for iteration 65000 is 0.4024968186484163\n",
      "Cost for iteration 66000 is 0.40161011020851506\n",
      "Cost for iteration 67000 is 0.40074373257923557\n",
      "Cost for iteration 68000 is 0.399897020991239\n",
      "Cost for iteration 69000 is 0.39906933790442806\n",
      "Cost for iteration 70000 is 0.39826007169238425\n",
      "Cost for iteration 71000 is 0.3974686353989657\n",
      "Cost for iteration 72000 is 0.3966944655626977\n",
      "Cost for iteration 73000 is 0.39593702110488815\n",
      "Cost for iteration 74000 is 0.395195782277664\n",
      "Cost for iteration 75000 is 0.3944702496683521\n",
      "Cost for iteration 76000 is 0.3937599432568661\n",
      "Cost for iteration 77000 is 0.3930644015229844\n",
      "Cost for iteration 78000 is 0.39238318060057426\n",
      "Cost for iteration 79000 is 0.39171585347603793\n",
      "Cost for iteration 80000 is 0.39106200922839585\n",
      "Cost for iteration 81000 is 0.390421252308615\n",
      "Cost for iteration 82000 is 0.3897932018559138\n",
      "Cost for iteration 83000 is 0.3891774910489357\n",
      "Cost for iteration 84000 is 0.3885737664898036\n",
      "Cost for iteration 85000 is 0.38798168761920276\n",
      "Cost for iteration 86000 is 0.3874009261607296\n",
      "Cost for iteration 87000 is 0.38683116559288755\n",
      "Cost for iteration 88000 is 0.38627210064717726\n",
      "Cost for iteration 89000 is 0.38572343683084515\n",
      "Cost for iteration 90000 is 0.38518488997292244\n",
      "Cost for iteration 91000 is 0.38465618579229505\n",
      "Cost for iteration 92000 is 0.3841370594865907\n",
      "Cost for iteration 93000 is 0.3836272553407668\n",
      "Cost for iteration 94000 is 0.38312652635433025\n",
      "Cost for iteration 95000 is 0.3826346338861992\n",
      "Cost for iteration 96000 is 0.38215134731626604\n",
      "Cost for iteration 97000 is 0.3816764437227748\n",
      "Cost for iteration 98000 is 0.38120970757468603\n",
      "Cost for iteration 99000 is 0.38075093043823993\n",
      "Cost for iteration 100000 is 0.3802999106969846\n",
      "Final value of w is [-0.00400819 -0.41816548  0.63169689 -0.01099881 -0.00181662  0.00663657\n",
      "  0.13466571  0.02484424 -0.33814664 -0.44354575  0.10854208 -0.55350091\n",
      " -0.47180368].\n",
      "Final value of b is -0.014530558767201314.\n"
     ]
    }
   ],
   "source": [
    "w_final, b_final, cost_final = compute_gradient_descent_logistic(X_train_np,y_train_np,w_0,b_0,alpha,iterations,\n",
    "                                                                 compute_cost,compute_gradient_logistic)"
   ]
  },
  {
   "cell_type": "code",
   "execution_count": 511,
   "id": "67304ff0",
   "metadata": {},
   "outputs": [
    {
     "data": {
      "image/png": "[encoded data removed]",
      "text/plain": [
       "<Figure size 640x480 with 1 Axes>"
      ]
     },
     "metadata": {},
     "output_type": "display_data"
    }
   ],
   "source": [
    "# Plot the cost function over iterations\n",
    "plt.plot(range(len(cost_final)), cost_final)\n",
    "plt.xlabel('Iterations')\n",
    "plt.ylabel('Cost')\n",
    "plt.title('Cost Function over Iterations')\n",
    "plt.show()"
   ]
  },
  {
   "cell_type": "code",
   "execution_count": 512,
   "id": "4334d1aa",
   "metadata": {},
   "outputs": [],
   "source": [
    "def prediction_model(w,b,example):\n",
    "    z = np.dot(example,w)+b\n",
    "    f_wb = sigmoid(z)\n",
    "    y_binary = (f_wb >= 0.5).astype(int)\n",
    "    return y_binary"
   ]
  },
  {
   "cell_type": "markdown",
   "id": "8764948b",
   "metadata": {},
   "source": [
    "### Testing the accuracy of the prediction model"
   ]
  },
  {
   "cell_type": "code",
   "execution_count": 518,
   "id": "54a665c5",
   "metadata": {},
   "outputs": [],
   "source": [
    "# Creating a prediction array for every training example of the training data\n",
    "training_examples = X_train_np.shape[0]\n",
    "y_pred = []\n",
    "for i in range(training_examples):\n",
    "    y_pred.append(prediction_model(w_final,b_final,X_train_np[i]))\n",
    "y_pred_np = np.array(y_pred)"
   ]
  },
  {
   "cell_type": "code",
   "execution_count": 520,
   "id": "576c7614",
   "metadata": {},
   "outputs": [
    {
     "data": {
      "text/plain": [
       "84.29752066115702"
      ]
     },
     "execution_count": 520,
     "metadata": {},
     "output_type": "execute_result"
    }
   ],
   "source": [
    "accuracy = (np.sum(y_train_np == y_pred_np)/len(y_train_np))*100\n",
    "accuracy"
   ]
  }
 ],
 "metadata": {
  "kernelspec": {
   "display_name": "Python 3 (ipykernel)",
   "language": "python",
   "name": "python3"
  },
  "language_info": {
   "codemirror_mode": {
    "name": "ipython",
    "version": 3
   },
   "file_extension": ".py",
   "mimetype": "text/x-python",
   "name": "python",
   "nbconvert_exporter": "python",
   "pygments_lexer": "ipython3",
   "version": "3.10.9"
  }
 },
 "nbformat": 4,
 "nbformat_minor": 5
}
